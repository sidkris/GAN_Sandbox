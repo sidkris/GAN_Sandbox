{
 "cells": [
  {
   "cell_type": "code",
   "execution_count": 4,
   "metadata": {},
   "outputs": [],
   "source": [
    "import torch \n",
    "import pdb\n",
    "import torch.nn as nn \n",
    "from torch.utils.data import DataLoader\n",
    "from torchvision import transforms\n",
    "from torchvision.datasets import MNIST \n",
    "from torchvision.utils import make_grid\n",
    "from tqdm.auto import tqdm \n",
    "import matplotlib.pyplot as plt"
   ]
  },
  {
   "cell_type": "code",
   "execution_count": 7,
   "metadata": {},
   "outputs": [],
   "source": [
    "# visualization function \n",
    "def show(tensor, colour_channels = 1, size = (28, 28), num_images_to_display = 16):\n",
    "\n",
    "    data = tensor.detach().cpu().view(-1, colour_channels, *size) # 'detach' disables gradient computation since I just want to display\n",
    "\n",
    "    grid = make_grid(data[:num_images_to_display], nrows = 4).permute(1, 2, 0)\n",
    "\n",
    "    plt.imshow(grid)\n",
    "    plt.show()\n"
   ]
  },
  {
   "cell_type": "code",
   "execution_count": 8,
   "metadata": {},
   "outputs": [
    {
     "name": "stdout",
     "output_type": "stream",
     "text": [
      "Downloading http://yann.lecun.com/exdb/mnist/train-images-idx3-ubyte.gz\n",
      "Failed to download (trying next):\n",
      "HTTP Error 403: Forbidden\n",
      "\n",
      "Downloading https://ossci-datasets.s3.amazonaws.com/mnist/train-images-idx3-ubyte.gz\n",
      "Downloading https://ossci-datasets.s3.amazonaws.com/mnist/train-images-idx3-ubyte.gz to .\\MNIST\\raw\\train-images-idx3-ubyte.gz\n"
     ]
    },
    {
     "name": "stderr",
     "output_type": "stream",
     "text": [
      "100%|██████████| 9912422/9912422 [00:04<00:00, 1989623.47it/s]\n"
     ]
    },
    {
     "name": "stdout",
     "output_type": "stream",
     "text": [
      "Extracting .\\MNIST\\raw\\train-images-idx3-ubyte.gz to .\\MNIST\\raw\n",
      "\n",
      "Downloading http://yann.lecun.com/exdb/mnist/train-labels-idx1-ubyte.gz\n",
      "Failed to download (trying next):\n",
      "HTTP Error 403: Forbidden\n",
      "\n",
      "Downloading https://ossci-datasets.s3.amazonaws.com/mnist/train-labels-idx1-ubyte.gz\n",
      "Downloading https://ossci-datasets.s3.amazonaws.com/mnist/train-labels-idx1-ubyte.gz to .\\MNIST\\raw\\train-labels-idx1-ubyte.gz\n"
     ]
    },
    {
     "name": "stderr",
     "output_type": "stream",
     "text": [
      "100%|██████████| 28881/28881 [00:00<00:00, 137075.21it/s]\n"
     ]
    },
    {
     "name": "stdout",
     "output_type": "stream",
     "text": [
      "Extracting .\\MNIST\\raw\\train-labels-idx1-ubyte.gz to .\\MNIST\\raw\n",
      "\n",
      "Downloading http://yann.lecun.com/exdb/mnist/t10k-images-idx3-ubyte.gz\n",
      "Failed to download (trying next):\n",
      "HTTP Error 403: Forbidden\n",
      "\n",
      "Downloading https://ossci-datasets.s3.amazonaws.com/mnist/t10k-images-idx3-ubyte.gz\n",
      "Downloading https://ossci-datasets.s3.amazonaws.com/mnist/t10k-images-idx3-ubyte.gz to .\\MNIST\\raw\\t10k-images-idx3-ubyte.gz\n"
     ]
    },
    {
     "name": "stderr",
     "output_type": "stream",
     "text": [
      "100%|██████████| 1648877/1648877 [00:02<00:00, 680055.40it/s]\n"
     ]
    },
    {
     "name": "stdout",
     "output_type": "stream",
     "text": [
      "Extracting .\\MNIST\\raw\\t10k-images-idx3-ubyte.gz to .\\MNIST\\raw\n",
      "\n",
      "Downloading http://yann.lecun.com/exdb/mnist/t10k-labels-idx1-ubyte.gz\n",
      "Failed to download (trying next):\n",
      "HTTP Error 403: Forbidden\n",
      "\n",
      "Downloading https://ossci-datasets.s3.amazonaws.com/mnist/t10k-labels-idx1-ubyte.gz\n",
      "Downloading https://ossci-datasets.s3.amazonaws.com/mnist/t10k-labels-idx1-ubyte.gz to .\\MNIST\\raw\\t10k-labels-idx1-ubyte.gz\n"
     ]
    },
    {
     "name": "stderr",
     "output_type": "stream",
     "text": [
      "100%|██████████| 4542/4542 [00:00<00:00, 2192740.42it/s]"
     ]
    },
    {
     "name": "stdout",
     "output_type": "stream",
     "text": [
      "Extracting .\\MNIST\\raw\\t10k-labels-idx1-ubyte.gz to .\\MNIST\\raw\n",
      "\n"
     ]
    },
    {
     "name": "stderr",
     "output_type": "stream",
     "text": [
      "\n"
     ]
    }
   ],
   "source": [
    "# parameters / hyperparameters\n",
    "\n",
    "epochs = 250\n",
    "\n",
    "current_step = 0 \n",
    "\n",
    "summary_step = 50\n",
    "\n",
    "mean_generator_loss = 0\n",
    "\n",
    "mean_discriminator_loss = 0\n",
    "\n",
    "generator_input_size = 64 \n",
    "\n",
    "learning_rate = 0.00001\n",
    "\n",
    "loss_function = nn.BCEWithLogitsLoss()\n",
    "\n",
    "batch_size = 128\n",
    "\n",
    "device = 'cpu'\n",
    "\n",
    "dataloader = DataLoader(MNIST(\".\", download = True, transform = transforms.ToTensor()), shuffle = True, batch_size = batch_size)"
   ]
  },
  {
   "cell_type": "code",
   "execution_count": 16,
   "metadata": {},
   "outputs": [],
   "source": [
    "# GENERATOR\n",
    "\n",
    "def generator_block(input, output):\n",
    "\n",
    "    return nn.Sequential(\n",
    "        nn.Linear(input, output),\n",
    "        nn.BatchNorm1d(output),\n",
    "        nn.ReLU(inplace = True)\n",
    "    )\n",
    "\n",
    "\n",
    "def generator_noise_vector(number, generator_input_size):\n",
    "\n",
    "    return torch.randn(number, generator_input_size).to(device)"
   ]
  },
  {
   "cell_type": "code",
   "execution_count": 17,
   "metadata": {},
   "outputs": [],
   "source": [
    "class Generator(nn.Module):\n",
    "\n",
    "    def __init__(self, generator_input_size = 64, image_dimension = 784, hidden_layer_dimension = 128):\n",
    "\n",
    "        super().__init__()\n",
    "        \n",
    "        self.generator_ = nn.Sequential(\n",
    "\n",
    "            generator_block(generator_input_size, hidden_layer_dimension),\n",
    "            generator_block(hidden_layer_dimension, hidden_layer_dimension * 2),\n",
    "            generator_block(hidden_layer_dimension * 2, hidden_layer_dimension * 4),\n",
    "            generator_block(hidden_layer_dimension * 4, hidden_layer_dimension * 8),\n",
    "            nn.Linear(hidden_layer_dimension * 8, image_dimension),               \n",
    "            nn.Sigmoid()\n",
    "        )\n",
    "\n",
    "    \n",
    "    def forward(self, noise_vector):\n",
    "\n",
    "        noise_vector = generator_noise_vector()\n",
    "        return self.generator_(noise_vector)\n",
    "    "
   ]
  },
  {
   "cell_type": "code",
   "execution_count": 18,
   "metadata": {},
   "outputs": [],
   "source": [
    "# DISCRIMINATOR \n",
    "\n",
    "def discriminator_block(input, output):\n",
    "\n",
    "    return nn.Sequential(\n",
    "\n",
    "        nn.Linear(input, output),\n",
    "        nn.LeakyReLU(0.2)\n",
    "\n",
    "    )"
   ]
  },
  {
   "cell_type": "code",
   "execution_count": 19,
   "metadata": {},
   "outputs": [],
   "source": [
    "class Discriminator(nn.Module):\n",
    "\n",
    "    def __init__(self, image_dimension = 784, hidden_layer_dimension = 256):\n",
    "\n",
    "        super().__init__()\n",
    "\n",
    "        self.discrimator_ = nn.Sequential(\n",
    "\n",
    "            discriminator_block(image_dimension, hidden_layer_dimension),\n",
    "            discriminator_block(hidden_layer_dimension, hidden_layer_dimension * 4),\n",
    "            discriminator_block(image_dimension * 4, hidden_layer_dimension * 2),\n",
    "            discriminator_block(image_dimension * 2, hidden_layer_dimension),\n",
    "            nn.Linear(hidden_layer_dimension, 1)\n",
    "\n",
    "        )\n",
    "\n",
    "    def forward(self, image):\n",
    "\n",
    "        return self.discrimator_(image)"
   ]
  },
  {
   "cell_type": "code",
   "execution_count": null,
   "metadata": {},
   "outputs": [],
   "source": []
  }
 ],
 "metadata": {
  "kernelspec": {
   "display_name": "Python 3",
   "language": "python",
   "name": "python3"
  },
  "language_info": {
   "codemirror_mode": {
    "name": "ipython",
    "version": 3
   },
   "file_extension": ".py",
   "mimetype": "text/x-python",
   "name": "python",
   "nbconvert_exporter": "python",
   "pygments_lexer": "ipython3",
   "version": "3.11.6"
  }
 },
 "nbformat": 4,
 "nbformat_minor": 2
}
